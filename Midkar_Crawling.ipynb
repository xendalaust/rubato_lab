{
 "cells": [
  {
   "cell_type": "code",
   "execution_count": null,
   "id": "saving-civilization",
   "metadata": {
    "scrolled": false
   },
   "outputs": [],
   "source": [
    "import os\n",
    "import requests\n",
    "import urllib.request\n",
    "from bs4 import BeautifulSoup\n",
    " \n",
    "def createFolder(directory):\n",
    "    try:\n",
    "        if not os.path.exists(directory):\n",
    "            os.makedirs(directory)\n",
    "    except OSError:\n",
    "        print ('Error: Creating directory. ' +  directory)\n",
    "\n",
    "        \n",
    "def midiGenreIndex(soup):\n",
    "    midi_genre = []\n",
    "    midi_genre_tmp = [] #이거 찾아봐야 되는데 시간이 없어서 상세하게 못 봄\n",
    "    \n",
    "    for td in soup.findAll('td'):\n",
    "        href = td.find('a', {'href': True, 'target': '_new'})\n",
    "        \n",
    "        if href != None and href['href'][-7:] == '01.html':\n",
    "            midi_genre.append(href['href'].split('/')[3])\n",
    "        elif href != None:\n",
    "            midi_genre_tmp.append(href['href'])\n",
    "            \n",
    "    return midi_genre\n",
    "\n",
    "            \n",
    "def soupHtmlParser(URL):\n",
    "    r = requests.get(url=URL)\n",
    "    soup = BeautifulSoup(r.content, 'html.parser') \n",
    "    \n",
    "    return soup\n",
    "\n",
    "    \n",
    "def main():\n",
    "    URL = 'http://midkar.com/'\n",
    "    \n",
    "    soup = soupHtmlParser(URL)\n",
    "    midi_genre = midiGenreIndex(soup)\n",
    "\n",
    "    for num in range(len(midi_genre)):\n",
    "        download_url = URL + midi_genre[num] + '/'\n",
    "\n",
    "        createFolder(midi_genre[num])\n",
    "        soup_midi = soupHtmlParser(download_url)\n",
    "\n",
    "        for td in soup_midi.findAll('a'):\n",
    "            if td['href'][-3:] == 'mid':\n",
    "                midi_file = urllib.request.urlopen(download_url + td['href']).read()\n",
    "                with open(midi_genre[num] + \"/\" + td['href'], mode = 'wb') as f:\n",
    "                    f.write(midi_file)\n",
    "        \n",
    "if __name__ == \"__main__\":\n",
    "    main()"
   ]
  },
  {
   "cell_type": "code",
   "execution_count": null,
   "id": "developing-winner",
   "metadata": {},
   "outputs": [],
   "source": []
  }
 ],
 "metadata": {
  "kernelspec": {
   "display_name": "Python 3",
   "language": "python",
   "name": "python3"
  },
  "language_info": {
   "codemirror_mode": {
    "name": "ipython",
    "version": 3
   },
   "file_extension": ".py",
   "mimetype": "text/x-python",
   "name": "python",
   "nbconvert_exporter": "python",
   "pygments_lexer": "ipython3",
   "version": "3.9.1"
  }
 },
 "nbformat": 4,
 "nbformat_minor": 5
}
