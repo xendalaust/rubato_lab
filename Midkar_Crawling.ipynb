{
 "cells": [
  {
   "cell_type": "code",
   "execution_count": null,
   "id": "saving-civilization",
   "metadata": {
    "scrolled": false
   },
   "outputs": [],
   "source": [
    "import requests\n",
    "import urllib.request\n",
    "import time\n",
    "from bs4 import BeautifulSoup\n",
    "\n",
    "midkar = []\n",
    "midkar_tmp = []\n",
    "\n",
    "URL = 'http://midkar.com/'\n",
    "\n",
    "r = requests.get(url=URL)\n",
    "soup = BeautifulSoup(r.content, 'html.parser') \n",
    "\n",
    "for td in soup.findAll('td'):\n",
    "    href = td.find('a', {'href': True, 'target': '_new'})\n",
    "    if href != None and href['href'][-7:] == '01.html':\n",
    "        midkar.append(href['href'].split('/')[3])\n",
    "    elif href != None:\n",
    "        midkar_tmp.append(href['href'])\n",
    "        \n",
    "for num in range(len(midkar)):\n",
    "    download_url = URL + midkar[num] + '/'\n",
    "    \n",
    "    r = requests.get(url=download_url)\n",
    "    soup = BeautifulSoup(r.content, 'html.parser') \n",
    "\n",
    "    for td in soup.findAll('a'):\n",
    "        if td['href'][-3:] == 'mid':\n",
    "            midi_file = urllib.request.urlopen(download_url + td['href']).read()\n",
    "            with open(midkar[num] + \"_\" + td['href'], mode = 'wb') as f:\n",
    "                f.write(midi_file)\n"
   ]
  }
 ],
 "metadata": {
  "kernelspec": {
   "display_name": "Python 3",
   "language": "python",
   "name": "python3"
  },
  "language_info": {
   "codemirror_mode": {
    "name": "ipython",
    "version": 3
   },
   "file_extension": ".py",
   "mimetype": "text/x-python",
   "name": "python",
   "nbconvert_exporter": "python",
   "pygments_lexer": "ipython3",
   "version": "3.9.1"
  }
 },
 "nbformat": 4,
 "nbformat_minor": 5
}
